{
  "nbformat": 4,
  "nbformat_minor": 0,
  "metadata": {
    "colab": {
      "provenance": []
    },
    "kernelspec": {
      "name": "python3",
      "display_name": "Python 3"
    },
    "language_info": {
      "name": "python"
    }
  },
  "cells": [
    {
      "cell_type": "markdown",
      "source": [
        "\n",
        "##File conversions"
      ],
      "metadata": {
        "id": "Z9ke-LBXvfRp"
      }
    },
    {
      "cell_type": "code",
      "execution_count": null,
      "metadata": {
        "id": "9WqhVgDQXsBX"
      },
      "outputs": [],
      "source": [
        "# Copyright 2021 The TensorFlow Authors. All Rights Reserved.\n",
        "#\n",
        "# Licensed under the Apache License, Version 2.0 (the \"License\");\n",
        "# you may not use this file except in compliance with the License.\n",
        "# You may obtain a copy of the License at\n",
        "#\n",
        "#     http://www.apache.org/licenses/LICENSE-2.0\n",
        "#\n",
        "# Unless required by applicable law or agreed to in writing, software\n",
        "# distributed under the License is distributed on an \"AS IS\" BASIS,\n",
        "# WITHOUT WARRANTIES OR CONDITIONS OF ANY KIND, either express or implied.\n",
        "# See the License for the specific language governing permissions and\n",
        "# limitations under the License.\n",
        "# ==============================================================================\n",
        "\"\"\"Library for converting .tflite, .bmp and .wav files to cc arrays.\"\"\"\n",
        "\n",
        "from __future__ import absolute_import\n",
        "from __future__ import division\n",
        "from __future__ import print_function\n",
        "\n",
        "import argparse\n",
        "import os\n",
        "import struct\n",
        "import wave\n",
        "import numpy as np\n",
        "\n",
        "from PIL import Image\n"
      ]
    },
    {
      "cell_type": "code",
      "source": [
        "\n",
        "def generate_file(out_fname, array_name, array_type, array_contents, size):\n",
        "  \"\"\"Write an array of values to a CC or header file.\"\"\"\n",
        "  os.makedirs(os.path.dirname(out_fname), exist_ok=True)\n",
        "  if out_fname.endswith('.cc'):\n",
        "    out_cc_file = open(out_fname, 'w')\n",
        "    out_cc_file.write('#include <cstdint>\\n\\n')\n",
        "    out_cc_file.write('#include \"{}\"\\n\\n'.format(\n",
        "        out_fname.split('genfiles/')[-1].replace('.cc', '.h')))\n",
        "    out_cc_file.write('const unsigned int {}_size = {};\\n'.format(\n",
        "        array_name, str(size)))\n",
        "    out_cc_file.write('alignas(16) const {} {}[] = {{'.format(\n",
        "        array_type, array_name))\n",
        "    out_cc_file.write(array_contents)\n",
        "    out_cc_file.write('};\\n')\n",
        "    out_cc_file.close()\n",
        "  elif out_fname.endswith('.h'):\n",
        "    out_hdr_file = open(out_fname, 'w')\n",
        "    out_hdr_file.write('#include <cstdint>\\n\\n')\n",
        "    out_hdr_file.write(\n",
        "        'extern const unsigned int {}_size;\\n'.format(array_name))\n",
        "    out_hdr_file.write('extern const {} {}[];\\n'.format(\n",
        "        array_type, array_name))\n",
        "    out_hdr_file.close()\n",
        "  else:\n",
        "    raise ValueError('generated file must be end with .cc or .h')"
      ],
      "metadata": {
        "id": "ajzRH2ryXvjK"
      },
      "execution_count": null,
      "outputs": []
    },
    {
      "cell_type": "code",
      "source": [
        "def bytes_to_hexstring(buffer):\n",
        "  \"\"\"Convert a byte array to a hex string.\"\"\"\n",
        "  hex_values = [hex(buffer[i]) for i in range(len(buffer))]\n",
        "  out_string = ','.join(hex_values)\n",
        "  return out_string\n"
      ],
      "metadata": {
        "id": "_hLjZVU7Xvmd"
      },
      "execution_count": null,
      "outputs": []
    },
    {
      "cell_type": "code",
      "source": [
        "\n",
        "def generate_array(input_fname):\n",
        "  \"\"\"Return array size and array of data from the input file.\"\"\"\n",
        "  if input_fname.endswith('.tflite'):\n",
        "    with open(input_fname, 'rb') as input_file:\n",
        "      buffer = input_file.read()\n",
        "    size = len(buffer)\n",
        "    out_string = bytes_to_hexstring(buffer)\n",
        "    return [size, out_string]\n",
        "  elif input_fname.endswith('.bmp'):\n",
        "    img = Image.open(input_fname, mode='r')\n",
        "    image_bytes = img.tobytes()\n",
        "    size = len(image_bytes)\n",
        "    out_string = bytes_to_hexstring(image_bytes)\n",
        "    return [size, out_string]\n",
        "  elif input_fname.endswith('.wav'):\n",
        "    wav_file = wave.open(input_fname, mode='r')\n",
        "    num_channels = wav_file.getnchannels()\n",
        "    n_frames = wav_file.getnframes()\n",
        "    frames = wav_file.readframes(n_frames)\n",
        "    samples = struct.unpack('<%dh' % (num_channels * n_frames), frames)\n",
        "    out_string = ','.join(map(str, samples))\n",
        "    wav_file.close()\n",
        "    return [wav_file.getnframes(), out_string]\n",
        "  elif input_fname.endswith('.csv'):\n",
        "    with open(input_fname, 'r') as input_file:\n",
        "      # Assume one array per csv file.\n",
        "      elements = input_file.readline()\n",
        "      return [len(elements.split(',')), elements]\n",
        "  elif input_fname.endswith('.npy'):\n",
        "    data = np.float32(np.load(input_fname, allow_pickle=False))\n",
        "    data_1d = data.flatten()\n",
        "    out_string = ','.join([str(x) for x in data_1d])\n",
        "    return [len(data_1d), out_string]\n",
        "\n",
        "  else:\n",
        "    raise ValueError('input file must be .tflite, .bmp, .wav or .csv')\n"
      ],
      "metadata": {
        "id": "f3LNeW4dXvrN"
      },
      "execution_count": null,
      "outputs": []
    },
    {
      "cell_type": "code",
      "source": [
        "def get_array_name(input_fname):\n",
        "  # Normalize potential relative path to remove additional dot.\n",
        "  abs_fname = os.path.abspath(input_fname)\n",
        "  base_array_name = 'g_' + abs_fname.split('.')[-2].split('/')[-1]\n",
        "  if input_fname.endswith('.tflite'):\n",
        "    return [base_array_name + '_model_data', 'unsigned char']\n",
        "  elif input_fname.endswith('.bmp'):\n",
        "    return [base_array_name + '_image_data', 'unsigned char']\n",
        "  elif input_fname.endswith('.wav'):\n",
        "    return [base_array_name + '_audio_data', 'int16_t']\n",
        "  elif input_fname.endswith('_int32.csv'):\n",
        "    return [base_array_name + '_test_data', 'int32_t']\n",
        "  elif input_fname.endswith('_int16.csv'):\n",
        "    return [base_array_name + '_test_data', 'int16_t']\n",
        "  elif input_fname.endswith('_int8.csv'):\n",
        "    return [base_array_name + '_test_data', 'int8_t']\n",
        "  elif input_fname.endswith('_float.csv'):\n",
        "    return [base_array_name + '_test_data', 'float']\n",
        "  elif input_fname.endswith('npy'):\n",
        "    return [base_array_name + '_test_data', 'float']\n"
      ],
      "metadata": {
        "id": "eaOq0cKrYHLw"
      },
      "execution_count": null,
      "outputs": []
    },
    {
      "cell_type": "code",
      "source": [
        "\n",
        "def convert(input_paths, output_path):\n",
        "    \"\"\"Create cc sources with c arrays with data from each .tflite or .bmp.\"\"\"\n",
        "\n",
        "    input_paths = input_paths.split()\n",
        "\n",
        "    if output_path.endswith('.cc') or output_path.endswith('.h'):\n",
        "        assert len(input_paths) == 1\n",
        "        size, cc_array = generate_array(input_paths[0])\n",
        "        generated_array_name, array_type = get_array_name(input_paths[0])\n",
        "        generate_file(output_path, generated_array_name, array_type, cc_array, size)\n",
        "    else:\n",
        "        # Deduplicate inputs to prevent duplicate generated files (ODR issue).\n",
        "        for input_file in list(dict.fromkeys(input_paths)):\n",
        "            output_base_fname = os.path.join(output_path, os.path.splitext(input_file)[0])\n",
        "\n",
        "            if input_file.endswith('.tflite'):\n",
        "                output_base_fname = output_base_fname + '_model_data'\n",
        "            elif input_file.endswith('.bmp'):\n",
        "                output_base_fname = output_base_fname + '_image_data'\n",
        "            elif input_file.endswith('.wav'):\n",
        "                output_base_fname = output_base_fname + '_audio_data'\n",
        "            elif input_file.endswith('.csv'):\n",
        "                output_base_fname = output_base_fname + '_test_data'\n",
        "            elif input_file.endswith('.npy'):\n",
        "                output_base_fname = output_base_fname + '_test_data'\n",
        "            else:\n",
        "                raise ValueError('input file must be .tflite, .bmp, .wav, .npy, or .csv')\n",
        "\n",
        "            output_cc_fname = output_base_fname + '.cc'\n",
        "            # Print output cc filename for Make to include it in the build.\n",
        "            print(output_cc_fname)\n",
        "            output_hdr_fname = output_base_fname + '.h'\n",
        "            size, cc_array = generate_array(input_file)\n",
        "            generated_array_name, array_type = get_array_name(input_file)\n",
        "            generate_file(output_cc_fname, generated_array_name, array_type, cc_array, size)\n",
        "            generate_file(output_hdr_fname, generated_array_name, array_type, cc_array, size)"
      ],
      "metadata": {
        "id": "t8RGtw6LYHS5"
      },
      "execution_count": null,
      "outputs": []
    },
    {
      "cell_type": "code",
      "source": [
        "convert(\"audio_preprocessor_int8.tflite\", \"audio_preprocessor_int8\")"
      ],
      "metadata": {
        "colab": {
          "base_uri": "https://localhost:8080/"
        },
        "id": "XRNoFEZRZFhq",
        "outputId": "abe9f872-e4d5-4b9c-a42c-7dc852240039"
      },
      "execution_count": null,
      "outputs": [
        {
          "output_type": "stream",
          "name": "stdout",
          "text": [
            "audio_preprocessor_int8/audio_preprocessor_int8_model_data.cc\n"
          ]
        }
      ]
    },
    {
      "cell_type": "code",
      "source": [
        "convert(\"micro_speech_quantized.tflite\", \"micro_speech_quantized\")"
      ],
      "metadata": {
        "colab": {
          "base_uri": "https://localhost:8080/"
        },
        "id": "6mR1vqjsZnm3",
        "outputId": "0f3bcd2d-4be2-4563-9a0c-c39c09af705c"
      },
      "execution_count": null,
      "outputs": [
        {
          "output_type": "stream",
          "name": "stdout",
          "text": [
            "micro_speech_quantized/micro_speech_quantized_model_data.cc\n"
          ]
        }
      ]
    }
  ]
}